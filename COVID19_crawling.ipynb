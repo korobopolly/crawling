{
 "cells": [
  {
   "cell_type": "markdown",
   "id": "e24de8c1",
   "metadata": {},
   "source": [
    "# 파이썬 코로나 데이터 크롤링 실습"
   ]
  },
  {
   "cell_type": "code",
   "execution_count": 1,
   "id": "4fd43df0",
   "metadata": {},
   "outputs": [
    {
     "name": "stdout",
     "output_type": "stream",
     "text": [
      "Requirement already satisfied: matplotlib in c:\\programdata\\anaconda3\\lib\\site-packages (3.3.4)\n",
      "Requirement already satisfied: numpy>=1.15 in c:\\programdata\\anaconda3\\lib\\site-packages (from matplotlib) (1.20.1)\n",
      "Requirement already satisfied: kiwisolver>=1.0.1 in c:\\programdata\\anaconda3\\lib\\site-packages (from matplotlib) (1.3.1)\n",
      "Requirement already satisfied: pyparsing!=2.0.4,!=2.1.2,!=2.1.6,>=2.0.3 in c:\\programdata\\anaconda3\\lib\\site-packages (from matplotlib) (2.4.7)\n",
      "Requirement already satisfied: python-dateutil>=2.1 in c:\\programdata\\anaconda3\\lib\\site-packages (from matplotlib) (2.8.1)\n",
      "Requirement already satisfied: cycler>=0.10 in c:\\programdata\\anaconda3\\lib\\site-packages (from matplotlib) (0.10.0)\n",
      "Requirement already satisfied: pillow>=6.2.0 in c:\\programdata\\anaconda3\\lib\\site-packages (from matplotlib) (8.2.0)\n",
      "Requirement already satisfied: six in c:\\programdata\\anaconda3\\lib\\site-packages (from cycler>=0.10->matplotlib) (1.15.0)\n"
     ]
    }
   ],
   "source": [
    "# !명령어 형식으로 명령 실행 가능\n",
    "\n",
    "!pip install matplotlib\n",
    "import matplotlib.pyplot as plt\n",
    "from urllib import request, parse\n",
    "from bs4 import BeautifulSoup as bs"
   ]
  },
  {
   "cell_type": "code",
   "execution_count": 2,
   "id": "c9fb1a39",
   "metadata": {},
   "outputs": [],
   "source": [
    "url = \"http://ncov.mohw.go.kr/\"\n",
    "source = request.urlopen(url).read()\n",
    "data = bs(source, \"html.parser\")"
   ]
  },
  {
   "cell_type": "code",
   "execution_count": 70,
   "id": "be640b3b",
   "metadata": {},
   "outputs": [
    {
     "name": "stdout",
     "output_type": "stream",
     "text": [
      "[<th scope=\"row\"><span>일일</span></th>, <th scope=\"row\"><span>최근 7일간<br/>일평균</span></th>]\n",
      "[<span>41</span>, <span>727</span>, <span>681</span>, <span>4,325</span>, <span>44</span>, <span>725</span>, <span>696</span>, <span>4,738</span>]\n"
     ]
    }
   ],
   "source": [
    "live = data.select(\"div.occur_graph > table > tbody > tr > th\")\n",
    "print(live)\n",
    "live_data = data.select(\"div.occur_graph > table > tbody > tr > td > span\")\n",
    "print(live_data)"
   ]
  },
  {
   "cell_type": "code",
   "execution_count": 71,
   "id": "85147bf9",
   "metadata": {},
   "outputs": [
    {
     "name": "stdout",
     "output_type": "stream",
     "text": [
      "일일\n",
      "4,325\n",
      "{'일일': 4325}\n"
     ]
    }
   ],
   "source": [
    "liv = dict() #딕셔너리 형태\n",
    "\n",
    "print(live[0].text)\n",
    "print(live_data[3].text)\n",
    "\n",
    "#텍스트에서 숫자만 넘겨서 int형으로 변환\n",
    "def intr(text:str) -> int:\n",
    "    filtered = [i for i in text if i.isdigit()]\n",
    "    num = int(''.join(filtered))\n",
    "    return num\n",
    "\n",
    "liv[live[0].text] = intr(live_data[3].text)\n",
    "print(liv)"
   ]
  },
  {
   "cell_type": "code",
   "execution_count": 97,
   "id": "d9774a46",
   "metadata": {},
   "outputs": [
    {
     "name": "stdout",
     "output_type": "stream",
     "text": [
      "[<div class=\"box\"><span>(누적)사망</span>3,893</div>, <div class=\"box\"><span>(누적)확진</span>477,358<a href=\"/board/doFileDownload.do?file_name=복사본 코로나바이러스감염증-19_확진환자_발생현황_211206.xlsx&amp;file_path=/upload/ncov/file/202112/1638750727425_20211206093207.xlsx\"><span>다운로드<img alt=\"\" src=\"/static/image/main/main_down_icon3.png\"/></span></a></div>]\n",
      "[<span>(누적)사망</span>, <span>(누적)확진</span>]\n",
      "(누적)사망\n",
      "(누적)확진\n",
      "{'(누적)사망': 3893, '(누적)확진': 477358}\n"
     ]
    },
    {
     "data": {
      "text/plain": [
       "'\\nall_data = dict()\\nfor i in detail:\\n    all_data[i.select_one(\"div.box\")] = [intr(i.select_one(\"div.box\"))]\\nprint(all_data)\\n'"
      ]
     },
     "execution_count": 97,
     "metadata": {},
     "output_type": "execute_result"
    }
   ],
   "source": [
    "detail = data.select(\"div.occur_num > div\")\n",
    "print(detail)\n",
    "detail_data = data.select(\"div.occur_num > div > span\")\n",
    "print(detail_data)\n",
    "\n",
    "#텍스트에서 숫자만 넘겨서 int형으로 변환\n",
    "def intr(text:str) -> int:\n",
    "    filtered = [i for i in text if i.isdigit()]\n",
    "    num = int(''.join(filtered))\n",
    "    return num\n",
    "\n",
    "all_data = dict()\n",
    "print(detail_data[0].text)\n",
    "print(detail_data[1].text)\n",
    "\n",
    "all_data[detail_data[0].text] = intr(detail[0].text)\n",
    "all_data[detail_data[1].text] = intr(detail[1].text.replace('다운로드', ''))\n",
    "print(all_data)\n",
    "\n",
    "'''\n",
    "all_data = dict()\n",
    "for i in detail:\n",
    "    all_data[i.select_one(\"div.box\")] = [intr(i.select_one(\"div.box\"))]\n",
    "print(all_data)\n",
    "'''"
   ]
  },
  {
   "cell_type": "code",
   "execution_count": null,
   "id": "fef482bc",
   "metadata": {},
   "outputs": [],
   "source": [
    "#from matplotlib import font_manager, rc\n",
    "\n",
    "#font_path = \"C:\\Windows\\Fonts\\Arial.TTF\"\n",
    "#font_name = font_manager.FontProperties(fname=font_path).get_name()\n",
    "#한글 폰트 지정\n",
    "#plt.rc(\"font\",family = font_name)\n",
    "#plt.figure(figsize=(16,5))\n",
    "#plt.title(\"전국 누적 확진자\")\n",
    "#plt.bar(index, total)\n",
    "#plt.show()"
   ]
  }
 ],
 "metadata": {
  "kernelspec": {
   "display_name": "Python 3",
   "language": "python",
   "name": "python3"
  },
  "language_info": {
   "codemirror_mode": {
    "name": "ipython",
    "version": 3
   },
   "file_extension": ".py",
   "mimetype": "text/x-python",
   "name": "python",
   "nbconvert_exporter": "python",
   "pygments_lexer": "ipython3",
   "version": "3.8.8"
  }
 },
 "nbformat": 4,
 "nbformat_minor": 5
}

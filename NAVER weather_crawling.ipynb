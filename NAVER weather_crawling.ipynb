{
 "cells": [
  {
   "cell_type": "markdown",
   "id": "aa374e8e",
   "metadata": {},
   "source": [
    "# 파이썬 네이버 날씨 크롤링 실습"
   ]
  },
  {
   "cell_type": "code",
   "execution_count": 1,
   "id": "80ce686e",
   "metadata": {},
   "outputs": [
    {
     "name": "stdout",
     "output_type": "stream",
     "text": [
      "현재 날씨가 궁금한 동네의 이름을 입력해주세요. : 부흥동\n",
      "현재 '부흥동'은  8 도 입니다.\n"
     ]
    }
   ],
   "source": [
    "#c11 현재 온도 크롤링\n",
    "\n",
    "from urllib import request, parse\n",
    "from bs4 import BeautifulSoup\n",
    "\n",
    "#GET 방식을 통해 HTTP 요청을 하게되는 파라미터 정보의 경우 URL 뒤에 붙어 전송됩니다.\n",
    "#이 때 URL은 ASCII 코드값만 사용되는데, 한글은 ASCII 코드로 표현할 수 없으므로 인코딩 해주어야 합니다.\n",
    "\n",
    "town=input(\"현재 날씨가 궁금한 동네의 이름을 입력해주세요. : \")\n",
    "town_weather=parse.quote(town+\"+날씨\") #quote함수 : 한글 텍스트를 인코딩\n",
    "\n",
    "url='https://search.naver.com/search.naver?where=nexearch&sm=top_hty&fbm=1&ie=utf8&query='+town_weather\n",
    "\n",
    "html=request.urlopen(url).read()\n",
    "soup=BeautifulSoup(html,'html.parser')\n",
    "temp=soup.find('div',class_='temperature_text')\n",
    "temp.find('span').extract() #2개의 span 태그를 삭제\n",
    "temp.find('span').extract()\n",
    "print(\"현재 \\'\"+town+\"\\'은 \"+temp.text+'도 입니다.',sep='')"
   ]
  },
  {
   "cell_type": "code",
   "execution_count": null,
   "id": "2790e957",
   "metadata": {},
   "outputs": [],
   "source": []
  }
 ],
 "metadata": {
  "kernelspec": {
   "display_name": "Python 3",
   "language": "python",
   "name": "python3"
  },
  "language_info": {
   "codemirror_mode": {
    "name": "ipython",
    "version": 3
   },
   "file_extension": ".py",
   "mimetype": "text/x-python",
   "name": "python",
   "nbconvert_exporter": "python",
   "pygments_lexer": "ipython3",
   "version": "3.8.8"
  }
 },
 "nbformat": 4,
 "nbformat_minor": 5
}

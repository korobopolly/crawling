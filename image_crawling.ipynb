{
 "cells": [
  {
   "cell_type": "markdown",
   "id": "97e76458",
   "metadata": {},
   "source": [
    "# 파이썬 이미지 크롤링 실습"
   ]
  },
  {
   "cell_type": "code",
   "execution_count": 1,
   "id": "c1f7a95e",
   "metadata": {},
   "outputs": [],
   "source": [
    "#c1 다운 받을 이미지가 있는 url을 설정하는 부분\n",
    "\n",
    "from urllib import request\n",
    "\n",
    "url=\"data:image/jpeg;base64,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\""
   ]
  },
  {
   "cell_type": "code",
   "execution_count": 2,
   "id": "9d42cb85",
   "metadata": {},
   "outputs": [
    {
     "data": {
      "text/plain": [
       "('daldalnugury.jpg', <email.message.Message at 0x24198b88af0>)"
      ]
     },
     "execution_count": 2,
     "metadata": {},
     "output_type": "execute_result"
    }
   ],
   "source": [
    "#c2 이미지를 다운로드 받는 방법\n",
    "\n",
    "Image_file_name=\"daldalnugury.jpg\"\n",
    "request.urlretrieve(url, Image_file_name)"
   ]
  },
  {
   "cell_type": "code",
   "execution_count": 5,
   "id": "578a1f80",
   "metadata": {},
   "outputs": [],
   "source": [
    "#c3 다운받은 이미지를 크롤링하기\n",
    "\n",
    "Image_file_name=\"daldalnugury01.jpg\"\n",
    "memory=request.urlopen(url).read() #url에 있는 데이터 읽어오기\n",
    "\n",
    "with open(Image_file_name, mode='wb') as f:\n",
    "    f.write(memory)"
   ]
  },
  {
   "cell_type": "code",
   "execution_count": null,
   "id": "60754d93",
   "metadata": {},
   "outputs": [],
   "source": []
  }
 ],
 "metadata": {
  "kernelspec": {
   "display_name": "Python 3",
   "language": "python",
   "name": "python3"
  },
  "language_info": {
   "codemirror_mode": {
    "name": "ipython",
    "version": 3
   },
   "file_extension": ".py",
   "mimetype": "text/x-python",
   "name": "python",
   "nbconvert_exporter": "python",
   "pygments_lexer": "ipython3",
   "version": "3.8.8"
  }
 },
 "nbformat": 4,
 "nbformat_minor": 5
}

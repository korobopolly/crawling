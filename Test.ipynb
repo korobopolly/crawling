{
 "cells": [
  {
   "cell_type": "code",
   "execution_count": 11,
   "id": "0793ce00",
   "metadata": {},
   "outputs": [
    {
     "data": {
      "text/plain": [
       "('laccoon.jpg', <http.client.HTTPMessage at 0x235fa585f10>)"
      ]
     },
     "execution_count": 11,
     "metadata": {},
     "output_type": "execute_result"
    }
   ],
   "source": [
    "from urllib import request\n",
    "\n",
    "url=\"https://pds.joongang.co.kr/news/component/htmlphoto_mmdata/201707/21/1cc79198-a736-4a35-a917-967986eb733d.jpg\"\n",
    "img=\"laccoon.jpg\"\n",
    "\n",
    "request.urlretrieve(url,img)"
   ]
  },
  {
   "cell_type": "code",
   "execution_count": 15,
   "id": "7276d0d7",
   "metadata": {},
   "outputs": [
    {
     "name": "stdout",
     "output_type": "stream",
     "text": [
      "뉴스스탠드\n"
     ]
    }
   ],
   "source": [
    "from bs4 import BeautifulSoup\n",
    "\n",
    "url=\"https://www.naver.com/\"\n",
    "html=request.urlopen(url).read()\n",
    "soup=BeautifulSoup(html,'html.parser')\n",
    "#print(soup)\n",
    "\n",
    "a=soup.find_all(\"a\",{\"class\":\"link_newsstand\"})\n",
    "print(a[0].text)"
   ]
  },
  {
   "cell_type": "code",
   "execution_count": null,
   "id": "40306df8",
   "metadata": {},
   "outputs": [],
   "source": []
  }
 ],
 "metadata": {
  "kernelspec": {
   "display_name": "Python 3",
   "language": "python",
   "name": "python3"
  },
  "language_info": {
   "codemirror_mode": {
    "name": "ipython",
    "version": 3
   },
   "file_extension": ".py",
   "mimetype": "text/x-python",
   "name": "python",
   "nbconvert_exporter": "python",
   "pygments_lexer": "ipython3",
   "version": "3.8.8"
  }
 },
 "nbformat": 4,
 "nbformat_minor": 5
}
